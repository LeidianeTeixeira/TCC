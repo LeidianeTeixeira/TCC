{
  "nbformat": 4,
  "nbformat_minor": 0,
  "metadata": {
    "colab": {
      "name": "ANALISE_EVASAO_MLP.ipynb",
      "provenance": [],
      "collapsed_sections": [
        "C3FKHziUR7Ph"
      ]
    },
    "kernelspec": {
      "display_name": "Python 3",
      "name": "python3"
    },
    "language_info": {
      "name": "python"
    }
  },
  "cells": [
    {
      "cell_type": "markdown",
      "metadata": {
        "id": "C3FKHziUR7Ph"
      },
      "source": [
        "## **Redes Neurais Artificiais na Análise de Evasão nas Licenciaturas do IFNMG-Salinas**\n",
        "\n",
        "---\n",
        "\n",
        "---\n",
        "\n",
        "Classificação de evasão escolar no ensino superior. O objetivo foi desenvolver um modelo utilizando redes neurais artificiais *Multilayer Perceptron* para classificar a situação do discente, permanência ou evasão, frente aos seus dados socioeconômicos, nos curos de licenciatura do IFNMG-Salinas."
      ]
    },
    {
      "cell_type": "markdown",
      "metadata": {
        "id": "RvyzGyuWSH3f"
      },
      "source": [
        "##**Conjunto de dados**\n",
        "A base de dados foi formada a partir da tabulação de arquivos físicos de questionários socioeconômicos em planilha eletrônica. A coleta foi realizada na secretaria de registros acadêmicos do IFNMG - Campus Salinas, mediante autorização da direção de ensino, desde que fosse preservado o anonimato dos discentes.\n",
        "\n",
        "Foram coletadas 256 amostras de dados relativas às turmas de 2017 e 2018 doscursos de licenciatura em Ciências Biológicas, Física, Matemática e Química. Dessas 256 amostras, 135 eram de discentes evadidos e 121 de discentes regularmente matriculados(não evadidos). \n",
        "\n",
        "Cada amostra é caracterizada por 22 atributos discretos, nos quais:  \n",
        "* 21  deles são os atributos de entrada (características)\n",
        "* 1   atributo de saída (rótulo, situação do discente: evadiu ou  não evadiu)."
      ]
    },
    {
      "cell_type": "markdown",
      "metadata": {
        "id": "Dpe1Kzg1SRUX"
      },
      "source": [
        "**Importação de dados**\n",
        "\n",
        "\n",
        "---\n"
      ]
    },
    {
      "cell_type": "code",
      "metadata": {
        "id": "ZYV5UjcKR1m1"
      },
      "source": [
        "#[1]Bibliotecas\n",
        "from google.colab import files\n",
        "import pandas as pd\n",
        "import io"
      ],
      "execution_count": null,
      "outputs": []
    },
    {
      "cell_type": "code",
      "metadata": {
        "colab": {
          "resources": {
            "http://localhost:8080/nbextensions/google.colab/files.js": {
              "data": "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",
              "ok": true,
              "headers": [
                [
                  "content-type",
                  "application/javascript"
                ]
              ],
              "status": 200,
              "status_text": ""
            }
          },
          "base_uri": "https://localhost:8080/",
          "height": 72
        },
        "id": "HgrH7t1fSXaG",
        "outputId": "f0d775f9-af4d-4d93-eeb4-ffcc2e565c87"
      },
      "source": [
        "#[2]importando conjuntos e dados já limpo(removidas variáveis descessárias e com dados faltantes)\n",
        "\n",
        "uploaded = files.upload() # uploaded é um dicionário, sendo a chave o nome do arquivo\n",
        "data_evasao = pd.read_csv(io.BytesIO(uploaded[list(uploaded.keys())[0]]))"
      ],
      "execution_count": null,
      "outputs": [
        {
          "output_type": "display_data",
          "data": {
            "text/html": [
              "\n",
              "     <input type=\"file\" id=\"files-efc00c56-2e40-42bd-a7f9-c143544d5be6\" name=\"files[]\" multiple disabled\n",
              "        style=\"border:none\" />\n",
              "     <output id=\"result-efc00c56-2e40-42bd-a7f9-c143544d5be6\">\n",
              "      Upload widget is only available when the cell has been executed in the\n",
              "      current browser session. Please rerun this cell to enable.\n",
              "      </output>\n",
              "      <script src=\"/nbextensions/google.colab/files.js\"></script> "
            ],
            "text/plain": [
              "<IPython.core.display.HTML object>"
            ]
          },
          "metadata": {}
        },
        {
          "output_type": "stream",
          "text": [
            "Saving data_licen.csv to data_licen.csv\n"
          ],
          "name": "stdout"
        }
      ]
    },
    {
      "cell_type": "code",
      "metadata": {
        "id": "QuQzbN3aSjJb",
        "colab": {
          "base_uri": "https://localhost:8080/",
          "height": 267
        },
        "outputId": "2a99d875-5a67-4c2b-db41-23c332e9e19d"
      },
      "source": [
        "#visualizando dados\n",
        "data_evasao.head(2)"
      ],
      "execution_count": null,
      "outputs": [
        {
          "output_type": "execute_result",
          "data": {
            "text/html": [
              "<div>\n",
              "<style scoped>\n",
              "    .dataframe tbody tr th:only-of-type {\n",
              "        vertical-align: middle;\n",
              "    }\n",
              "\n",
              "    .dataframe tbody tr th {\n",
              "        vertical-align: top;\n",
              "    }\n",
              "\n",
              "    .dataframe thead th {\n",
              "        text-align: right;\n",
              "    }\n",
              "</style>\n",
              "<table border=\"1\" class=\"dataframe\">\n",
              "  <thead>\n",
              "    <tr style=\"text-align: right;\">\n",
              "      <th></th>\n",
              "      <th>atv_remunerada</th>\n",
              "      <th>renda_mensal</th>\n",
              "      <th>num_mem_familia</th>\n",
              "      <th>renda_mensal_familia</th>\n",
              "      <th>sit_pai_trabalho</th>\n",
              "      <th>sit_mae_trabalho</th>\n",
              "      <th>ens_fundamental</th>\n",
              "      <th>ens_medio</th>\n",
              "      <th>tempo_concluiu_ens_medio</th>\n",
              "      <th>cor</th>\n",
              "      <th>hab_ler_jornal_revista</th>\n",
              "      <th>livros_lidos_ano</th>\n",
              "      <th>atv_ocup_tempo</th>\n",
              "      <th>meio_informado</th>\n",
              "      <th>faixa_etaria</th>\n",
              "      <th>procedencia</th>\n",
              "      <th>rep_ens_fundamental</th>\n",
              "      <th>rep_ens_medio</th>\n",
              "      <th>esc_pai</th>\n",
              "      <th>esc_mae</th>\n",
              "      <th>deficiencia</th>\n",
              "      <th>Evadiu</th>\n",
              "    </tr>\n",
              "  </thead>\n",
              "  <tbody>\n",
              "    <tr>\n",
              "      <th>0</th>\n",
              "      <td>Nao</td>\n",
              "      <td>Nao tenho nenhuma renda mensal.</td>\n",
              "      <td>De 1 a 3 pessoas</td>\n",
              "      <td>De 1 até 1,5 salário mínimo.</td>\n",
              "      <td>Outra situação</td>\n",
              "      <td>Outra situação</td>\n",
              "      <td>Escola pública municipal</td>\n",
              "      <td>Escola pública federal</td>\n",
              "      <td>Há mais de 5 anos</td>\n",
              "      <td>Pardo(a), Mulato(a)</td>\n",
              "      <td>Diariamente</td>\n",
              "      <td>Mais de 05 livros</td>\n",
              "      <td>Nenhuma dessas atividades</td>\n",
              "      <td>Internet</td>\n",
              "      <td>De 30 a 39 anos</td>\n",
              "      <td>Zona rural</td>\n",
              "      <td>1 vez</td>\n",
              "      <td>Nenhuma vez</td>\n",
              "      <td>Ensino fundamental completo</td>\n",
              "      <td>Ensino fundamental incompleto</td>\n",
              "      <td>Não apresento nenhum tipo de deficiência</td>\n",
              "      <td>Sim</td>\n",
              "    </tr>\n",
              "    <tr>\n",
              "      <th>1</th>\n",
              "      <td>Nao</td>\n",
              "      <td>Nao tenho nenhuma renda mensal.</td>\n",
              "      <td>De 4 a 6 pessoas</td>\n",
              "      <td>De 1 até 1,5 salário mínimo.</td>\n",
              "      <td>Trabalha regularmente</td>\n",
              "      <td>Trabalha regularmente</td>\n",
              "      <td>Escola pública estadual</td>\n",
              "      <td>Escola pública estadual</td>\n",
              "      <td>Entre 3 e 4 anos (incompletos)</td>\n",
              "      <td>Pardo(a), Mulato(a)</td>\n",
              "      <td>Semanalmente</td>\n",
              "      <td>Mais de 05 livros</td>\n",
              "      <td>Televisão</td>\n",
              "      <td>Jornal falado (TV)</td>\n",
              "      <td>De 20 a 24 anos</td>\n",
              "      <td>Zona urbana</td>\n",
              "      <td>Nenhuma vez</td>\n",
              "      <td>Nenhuma vez</td>\n",
              "      <td>Ensino fundamental incompleto</td>\n",
              "      <td>Ensino fundamental incompleto</td>\n",
              "      <td>Não apresento nenhum tipo de deficiência</td>\n",
              "      <td>Sim</td>\n",
              "    </tr>\n",
              "  </tbody>\n",
              "</table>\n",
              "</div>"
            ],
            "text/plain": [
              "  atv_remunerada  ... Evadiu\n",
              "0            Nao  ...    Sim\n",
              "1            Nao  ...    Sim\n",
              "\n",
              "[2 rows x 22 columns]"
            ]
          },
          "metadata": {},
          "execution_count": 3
        }
      ]
    },
    {
      "cell_type": "markdown",
      "metadata": {
        "id": "NQCM2DopScDN"
      },
      "source": [
        "##**Pré-Processamento**"
      ]
    },
    {
      "cell_type": "markdown",
      "metadata": {
        "id": "QuTI7csLSqCv"
      },
      "source": [
        "**Transformação/Conversão de dados**\n",
        "\n",
        "\n",
        "---\n",
        "A *Multilayer Perceptron* não consegue processar diretamente dados categóricos,dessa forma, no pré-processamento os dados foram convertidos para numéricos. Para isso, utilizou-se a codificação 1-de-n, na qual é criado um atributo para cada valor categórico. O atributo que corresponde ao valor é preenchido com 1 e os demais com 0.\n",
        "\n",
        "O processo foi realizado com o auxilio do  ```OneHotEncoder``` .\n"
      ]
    },
    {
      "cell_type": "code",
      "metadata": {
        "colab": {
          "base_uri": "https://localhost:8080/"
        },
        "id": "CB06iKQxStsh",
        "outputId": "c4152452-fb27-4a29-8324-74aea595d1cf"
      },
      "source": [
        "#Bibliotecas\n",
        "from sklearn.preprocessing import OneHotEncoder\n",
        "\n",
        "enc = OneHotEncoder()\n",
        "\n",
        "enc.fit(data_evasao)  #Ajuste do OneHotEncoder para pré-processamento\n",
        "\n",
        "new_data = enc.transform(data_evasao).toarray() #Transformação dos dados categóricos em características binárias\n",
        "\n",
        "print('Conjunto de dados transformado com sucesso!\\n')\n",
        "print(f'Número de colunas do conjunto de dados: {new_data.shape[1]}')\n",
        "print(f'Número de linhas do conjunto de dados: {new_data.shape[0]}')"
      ],
      "execution_count": null,
      "outputs": [
        {
          "output_type": "stream",
          "text": [
            "Conjunto de dados transformado com sucesso!\n",
            "\n",
            "Número de colunas do conjunto de dados: 119\n",
            "Número de linhas do conjunto de dados: 256\n"
          ],
          "name": "stdout"
        }
      ]
    },
    {
      "cell_type": "markdown",
      "metadata": {
        "id": "mXzIlZG2TA6t"
      },
      "source": [
        "**Separação das variáveis de entrada e saída**\n",
        "\n",
        "\n",
        "---\n"
      ]
    },
    {
      "cell_type": "code",
      "metadata": {
        "colab": {
          "base_uri": "https://localhost:8080/"
        },
        "id": "NjJtip-kS8GE",
        "outputId": "2b056afc-2305-45d0-d8fd-79c2e1525261"
      },
      "source": [
        "#Separação das entradas e saídas do modelo\n",
        "X = new_data[:, :(new_data.shape[1]-2)]   \n",
        "y = new_data[:, new_data.shape[1]-2:] #Duas últimas colunas do array\n",
        "\n",
        "print(f'Entradas: {X.shape[1]}')\n",
        "print(f'Saídas: {y.shape[1]}')"
      ],
      "execution_count": null,
      "outputs": [
        {
          "output_type": "stream",
          "text": [
            "Entradas: 117\n",
            "Saídas: 2\n"
          ],
          "name": "stdout"
        }
      ]
    },
    {
      "cell_type": "code",
      "metadata": {
        "id": "uSsJHc-nTG0i"
      },
      "source": [
        "#Bibliotecas\n",
        "import numpy as np\n",
        "\n",
        "# Indentificando os rótulos das classes\n",
        "data = np.array(data_evasao)\n",
        "labels = []\n",
        "for line in range(data.shape[0]):\n",
        "  if(labels.count(data[line, data.shape[1]-1])==0):\n",
        "    labels.append(data[line, data.shape[1]-1])"
      ],
      "execution_count": null,
      "outputs": []
    },
    {
      "cell_type": "markdown",
      "metadata": {
        "id": "ED8EwE3gI-K8"
      },
      "source": [
        "## **Seleção de Topologias por Validação K-Fold**"
      ]
    },
    {
      "cell_type": "code",
      "metadata": {
        "id": "KQTQC2HAStvb",
        "colab": {
          "base_uri": "https://localhost:8080/"
        },
        "outputId": "1746e62c-5127-45e5-803b-133efc2f1237"
      },
      "source": [
        "#Bibliotecas\n",
        "from sklearn.model_selection import train_test_split \n",
        "from sklearn.neural_network import MLPClassifier\n",
        "from sklearn.model_selection import KFold\n",
        "from sklearn.model_selection import cross_val_score\n",
        "from sklearn.metrics import accuracy_score\n",
        "from sklearn.metrics import log_loss\n",
        "import matplotlib.pyplot as plt\n",
        "import numpy as np\n",
        "import warnings\n",
        "warnings.filterwarnings(\"ignore\") # ignorando warnings da MLP\n",
        "\n",
        "#Gerando os conjuntos de treinamento e teste\n",
        "train_x, test_x, train_y, test_y = train_test_split(X,y, test_size=0.25)\n",
        "\n",
        "# ponto de partida da camada oculta\n",
        "neurons = (train_x.shape[1]+train_y.shape[1])//2\n",
        "rand_seeds =  [0, 32, 64, 96, 127]\n",
        "actv_funcs =  ['logistic', 'relu']\n",
        "max_its = [250, 500, 750, 1000]\n",
        "\n",
        "hp = [] \n",
        "val_scores = []\n",
        "train_scores = []\n",
        "mean_scores =[]\n",
        "\n",
        "#Preparação do procedimento de validação cruzada\n",
        "cv = KFold(n_splits=10, random_state=1, shuffle=True)\n",
        "\n",
        "print('AC.VAL. + Desvio padrão      |       TOPOLOGIA ')\n",
        "\n",
        "# loop de otimização\n",
        "while(neurons>=1):\n",
        "  for actv_func in actv_funcs:\n",
        "    vc = []\n",
        "    for r_seed in rand_seeds:\n",
        "      # define modelo com base no hiperparametro\n",
        "      model = MLPClassifier(neurons,activation=actv_func, max_iter=1000, alpha=0.01,  random_state=r_seed,\n",
        "                      solver='sgd', learning_rate_init=0.1, momentum=0.9, learning_rate='adaptive', verbose=0 )\n",
        "      \n",
        "      # Validação k-fold\n",
        "      vs = cross_val_score(model, train_x, train_y, cv=cv)\n",
        "      \n",
        "      vc.extend(vs)\n",
        "      \n",
        "      val_acc = np.mean(vs) #média dos valores kfold\n",
        "      val_sd = np.std(vs)\n",
        "      val_scores.append(val_acc)\n",
        "    \n",
        "      hp.append([neurons, actv_func, r_seed])\n",
        "\n",
        "      print('%.3f  -  %.3f           ' % (val_acc*100, val_sd*100), [neurons, actv_func, r_seed])\n",
        "   # print('%.3f-%.3f      ' % (np.mean(vc),np.std(vc)),'      ', [neurons, actv_func])\n",
        "  neurons = neurons//2\n",
        "\n",
        "\n",
        "print('\\n\\n------------------ RESULTADO -------------------------------')\n",
        "\n",
        "best_i = np.argmax(val_scores)                                                                                                                                                                                                                                                                                                                          \n",
        "print('\\nMelhor modelo: ', best_i, hp[best_i])\n",
        "print('Acurácia do Conjunto de Validação: {:.4}%'.format(val_scores[best_i]*100))\n",
        "\n",
        "\n"
      ],
      "execution_count": null,
      "outputs": [
        {
          "output_type": "stream",
          "text": [
            "AC.VAL. + Desvio padrão      |       TOPOLOGIA \n",
            "58.316  -  7.073            [59, 'logistic', 0]\n",
            "58.289  -  5.984            [59, 'logistic', 32]\n",
            "58.342  -  6.529            [59, 'logistic', 64]\n",
            "57.763  -  8.803            [59, 'logistic', 96]\n",
            "60.421  -  9.118            [59, 'logistic', 127]\n",
            "56.211  -  8.339            [59, 'relu', 0]\n",
            "58.316  -  5.827            [59, 'relu', 32]\n",
            "55.211  -  8.487            [59, 'relu', 64]\n",
            "55.184  -  6.824            [59, 'relu', 96]\n",
            "56.789  -  8.674            [59, 'relu', 127]\n",
            "58.868  -  5.295            [29, 'logistic', 0]\n",
            "56.763  -  8.807            [29, 'logistic', 32]\n",
            "55.711  -  5.454            [29, 'logistic', 64]\n",
            "57.816  -  8.561            [29, 'logistic', 96]\n",
            "55.711  -  6.390            [29, 'logistic', 127]\n",
            "56.237  -  4.234            [29, 'relu', 0]\n",
            "55.684  -  8.414            [29, 'relu', 32]\n",
            "57.789  -  8.037            [29, 'relu', 64]\n",
            "57.816  -  8.561            [29, 'relu', 96]\n",
            "55.132  -  9.150            [29, 'relu', 127]\n",
            "57.316  -  5.881            [14, 'logistic', 0]\n",
            "57.737  -  8.261            [14, 'logistic', 32]\n",
            "57.816  -  7.528            [14, 'logistic', 64]\n",
            "54.658  -  6.377            [14, 'logistic', 96]\n",
            "57.737  -  9.183            [14, 'logistic', 127]\n",
            "56.184  -  6.642            [14, 'relu', 0]\n",
            "58.316  -  7.073            [14, 'relu', 32]\n",
            "61.947  -  8.242            [14, 'relu', 64]\n",
            "59.316  -  9.435            [14, 'relu', 96]\n",
            "55.158  -  6.536            [14, 'relu', 127]\n",
            "57.211  -  5.638            [7, 'logistic', 0]\n",
            "58.816  -  6.590            [7, 'logistic', 32]\n",
            "58.289  -  5.502            [7, 'logistic', 64]\n",
            "57.237  -  5.961            [7, 'logistic', 96]\n",
            "58.789  -  6.691            [7, 'logistic', 127]\n",
            "57.158  -  8.517            [7, 'relu', 0]\n",
            "56.184  -  6.211            [7, 'relu', 32]\n",
            "58.316  -  6.958            [7, 'relu', 64]\n",
            "55.579  -  14.647            [7, 'relu', 96]\n",
            "58.737  -  9.580            [7, 'relu', 127]\n",
            "57.237  -  6.409            [3, 'logistic', 0]\n",
            "42.421  -  17.858            [3, 'logistic', 32]\n",
            "57.237  -  7.952            [3, 'logistic', 64]\n",
            "56.237  -  6.755            [3, 'logistic', 96]\n",
            "42.816  -  17.419            [3, 'logistic', 127]\n",
            "53.605  -  8.393            [3, 'relu', 0]\n",
            "53.132  -  9.145            [3, 'relu', 32]\n",
            "55.132  -  9.091            [3, 'relu', 64]\n",
            "53.632  -  11.868            [3, 'relu', 96]\n",
            "54.684  -  9.861            [3, 'relu', 127]\n",
            "53.658  -  9.252            [1, 'logistic', 0]\n",
            "53.658  -  9.252            [1, 'logistic', 32]\n",
            "53.658  -  9.252            [1, 'logistic', 64]\n",
            "54.658  -  7.569            [1, 'logistic', 96]\n",
            "56.263  -  8.396            [1, 'logistic', 127]\n",
            "50.421  -  10.038            [1, 'relu', 0]\n",
            "60.342  -  9.925            [1, 'relu', 32]\n",
            "53.658  -  9.252            [1, 'relu', 64]\n",
            "52.526  -  10.005            [1, 'relu', 96]\n",
            "59.289  -  11.216            [1, 'relu', 127]\n",
            "\n",
            "\n",
            "------------------ RESULTADO -------------------------------\n",
            "\n",
            "Melhor modelo:  27 [14, 'relu', 64]\n",
            "Acurácia do Conjunto de Validação: 61.95%\n"
          ],
          "name": "stdout"
        }
      ]
    },
    {
      "cell_type": "markdown",
      "metadata": {
        "id": "KqlRSOLytoEt"
      },
      "source": [
        "## **Treinamento**"
      ]
    },
    {
      "cell_type": "code",
      "metadata": {
        "colab": {
          "base_uri": "https://localhost:8080/",
          "height": 335
        },
        "id": "i-HYfmYqtm0V",
        "outputId": "2a4d92ae-11f3-4d03-d05b-a93d154c0ccb"
      },
      "source": [
        "# treina com hiperparametro mais adequado\n",
        "model = MLPClassifier(hp[best_i][0],activation=hp[best_i][1], max_iter=5000, alpha=0.1,\n",
        "                      solver='sgd', learning_rate_init=0.1, momentum=0.9, learning_rate='adaptive', verbose=0 )\n",
        "      \n",
        "model = model.fit(train_x, train_y)\n",
        "\n",
        "train_y_pred = model.predict(train_x)\n",
        "\n",
        "#Calcula a perda logaritmica\n",
        "l_loss = model.best_loss_\n",
        "\n",
        "print('Perda Logarítmica: {:.4}'.format(l_loss))\n",
        "\n",
        "# exibindo a curva de perda logarítmica\n",
        "plt.plot(model.loss_curve_)\n",
        "plt.title('Histórico de Perda Logarítmica')\n",
        "plt.xlabel('épocas')\n",
        "plt.ylabel('perda')"
      ],
      "execution_count": null,
      "outputs": [
        {
          "output_type": "stream",
          "text": [
            "Perda Logarítmica: 0.06511\n"
          ],
          "name": "stdout"
        },
        {
          "output_type": "execute_result",
          "data": {
            "text/plain": [
              "Text(0, 0.5, 'perda')"
            ]
          },
          "metadata": {},
          "execution_count": 38
        },
        {
          "output_type": "display_data",
          "data": {
            "image/png": "[encoded data removed]",
            "text/plain": [
              "<Figure size 432x288 with 1 Axes>"
            ]
          },
          "metadata": {}
        }
      ]
    },
    {
      "cell_type": "markdown",
      "metadata": {
        "id": "PGh_zxnECiia"
      },
      "source": [
        "## **Análise dos conjuntos de treinamento e teste**"
      ]
    },
    {
      "cell_type": "code",
      "metadata": {
        "colab": {
          "base_uri": "https://localhost:8080/",
          "height": 539
        },
        "id": "3h8YvoIGYkov",
        "outputId": "def51ae5-9193-4cdc-c7ed-b481320c582e"
      },
      "source": [
        "print('--------------- ANÁLISE DO CONJUNTO DE TREINAMENTO -------------------\\n')\n",
        "\n",
        "# Análise do conjunto de treinamento\n",
        "import matplotlib.pyplot as plt\n",
        "import seaborn as sns; sns.set()\n",
        "from sklearn.metrics import confusion_matrix\n",
        "from sklearn.metrics import classification_report\n",
        "from sklearn.metrics import accuracy_score\n",
        "\n",
        "\n",
        "#print(' Relatório de Classificação')\n",
        "print(classification_report(train_y, train_y_pred)) # mostra relatório\n",
        "\n",
        "acc_train = accuracy_score(train_y, train_y_pred)\n",
        "print('Acurácia no Conjunto de Treinamento: {:.4}%\\n'.format(acc_train*100))\n",
        "\n",
        "mat = confusion_matrix(train_y.argmax(axis=-1), train_y_pred.argmax(axis=-1))\n",
        "sns.heatmap(mat.T, square=True, annot=True, fmt='d', cbar=False, xticklabels=labels, yticklabels=labels)\n",
        "plt.title('Evadiu')\n",
        "plt.xlabel('Real')\n",
        "plt.ylabel('Estimado');"
      ],
      "execution_count": null,
      "outputs": [
        {
          "output_type": "stream",
          "text": [
            "--------------- ANÁLISE DO CONJUNTO DE TREINAMENTO -------------------\n",
            "\n",
            "              precision    recall  f1-score   support\n",
            "\n",
            "           0       1.00      1.00      1.00        89\n",
            "           1       1.00      1.00      1.00       103\n",
            "\n",
            "   micro avg       1.00      1.00      1.00       192\n",
            "   macro avg       1.00      1.00      1.00       192\n",
            "weighted avg       1.00      1.00      1.00       192\n",
            " samples avg       1.00      1.00      1.00       192\n",
            "\n",
            "Acurácia no Conjunto de Treinamento: 100.0%\n",
            "\n"
          ],
          "name": "stdout"
        },
        {
          "output_type": "display_data",
          "data": {
            "image/png": "[encoded data removed]",
            "text/plain": [
              "<Figure size 432x288 with 1 Axes>"
            ]
          },
          "metadata": {}
        }
      ]
    },
    {
      "cell_type": "code",
      "metadata": {
        "colab": {
          "base_uri": "https://localhost:8080/",
          "height": 539
        },
        "id": "nqYDqFcoYyQb",
        "outputId": "7b4d9045-319c-4b1f-ed80-2684a95647e4"
      },
      "source": [
        "print('----------------- ANÁLISE DO CONJUNTO DE TESTE -----------------------\\n')\n",
        "#Análise do conjunto de teste\n",
        "import matplotlib.pyplot as plt\n",
        "import seaborn as sns; sns.set()\n",
        "from sklearn.metrics import confusion_matrix\n",
        "from sklearn.metrics import classification_report\n",
        "from sklearn.metrics import accuracy_score\n",
        "\n",
        "test_y_pred = model.predict(test_x)\n",
        "\n",
        "print(classification_report(test_y, test_y_pred))\n",
        "\n",
        "acc_test = accuracy_score(test_y, test_y_pred)\n",
        "test_std = np.std(acc_test)\n",
        "print('Acurácia de Teste: {:.4}%\\n'.format(acc_test*100))\n",
        "\n",
        "# matriz de confusão\n",
        "mat = confusion_matrix(test_y.argmax(axis=1), test_y_pred.argmax(axis=1))\n",
        "sns.heatmap(mat.T, square=True, annot=True, fmt='d', cbar=False, xticklabels=labels, yticklabels=labels)\n",
        "plt.title('Evadiu')\n",
        "plt.xlabel('Real')\n",
        "plt.ylabel('Estimado');\n",
        "\n"
      ],
      "execution_count": null,
      "outputs": [
        {
          "output_type": "stream",
          "text": [
            "----------------- ANÁLISE DO CONJUNTO DE TESTE -----------------------\n",
            "\n",
            "              precision    recall  f1-score   support\n",
            "\n",
            "           0       0.72      0.56      0.63        32\n",
            "           1       0.64      0.78      0.70        32\n",
            "\n",
            "   micro avg       0.67      0.67      0.67        64\n",
            "   macro avg       0.68      0.67      0.67        64\n",
            "weighted avg       0.68      0.67      0.67        64\n",
            " samples avg       0.67      0.67      0.67        64\n",
            "\n",
            "Acurácia de Teste: 67.19%\n",
            "\n"
          ],
          "name": "stdout"
        },
        {
          "output_type": "display_data",
          "data": {
            "image/png": "[encoded data removed]",
            "text/plain": [
              "<Figure size 432x288 with 1 Axes>"
            ]
          },
          "metadata": {}
        }
      ]
    }
  ]
}